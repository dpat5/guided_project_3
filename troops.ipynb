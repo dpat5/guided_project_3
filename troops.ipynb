{
 "cells": [
  {
   "cell_type": "code",
   "execution_count": null,
   "metadata": {},
   "outputs": [],
   "source": []
  },
  {
   "cell_type": "code",
   "execution_count": 191,
   "metadata": {},
   "outputs": [],
   "source": [
    "import pandas as pd"
   ]
  },
  {
   "cell_type": "code",
   "execution_count": 192,
   "metadata": {},
   "outputs": [],
   "source": [
    "df = pd.read_csv(\"troop_movements.csv\")"
   ]
  },
  {
   "cell_type": "code",
   "execution_count": 193,
   "metadata": {},
   "outputs": [
    {
     "data": {
      "text/plain": [
       "(1000, 9)"
      ]
     },
     "execution_count": 193,
     "metadata": {},
     "output_type": "execute_result"
    }
   ],
   "source": [
    "df.shape"
   ]
  },
  {
   "cell_type": "code",
   "execution_count": 194,
   "metadata": {},
   "outputs": [
    {
     "data": {
      "text/html": [
       "<div>\n",
       "<style scoped>\n",
       "    .dataframe tbody tr th:only-of-type {\n",
       "        vertical-align: middle;\n",
       "    }\n",
       "\n",
       "    .dataframe tbody tr th {\n",
       "        vertical-align: top;\n",
       "    }\n",
       "\n",
       "    .dataframe thead th {\n",
       "        text-align: right;\n",
       "    }\n",
       "</style>\n",
       "<table border=\"1\" class=\"dataframe\">\n",
       "  <thead>\n",
       "    <tr style=\"text-align: right;\">\n",
       "      <th></th>\n",
       "      <th>timestamp</th>\n",
       "      <th>unit_id</th>\n",
       "      <th>unit_type</th>\n",
       "      <th>empire_or_resistance</th>\n",
       "      <th>location_x</th>\n",
       "      <th>location_y</th>\n",
       "      <th>destination_x</th>\n",
       "      <th>destination_y</th>\n",
       "      <th>homeworld</th>\n",
       "    </tr>\n",
       "  </thead>\n",
       "  <tbody>\n",
       "    <tr>\n",
       "      <th>0</th>\n",
       "      <td>2025-03-17 14:53:30</td>\n",
       "      <td>1</td>\n",
       "      <td>at-at</td>\n",
       "      <td>resistance</td>\n",
       "      <td>4</td>\n",
       "      <td>10</td>\n",
       "      <td>9</td>\n",
       "      <td>7</td>\n",
       "      <td>Skako</td>\n",
       "    </tr>\n",
       "    <tr>\n",
       "      <th>1</th>\n",
       "      <td>2025-03-17 14:53:29</td>\n",
       "      <td>2</td>\n",
       "      <td>tie_silencer</td>\n",
       "      <td>resistance</td>\n",
       "      <td>5</td>\n",
       "      <td>2</td>\n",
       "      <td>10</td>\n",
       "      <td>6</td>\n",
       "      <td>Alderaan</td>\n",
       "    </tr>\n",
       "    <tr>\n",
       "      <th>2</th>\n",
       "      <td>2025-03-17 14:53:28</td>\n",
       "      <td>3</td>\n",
       "      <td>stormtrooper</td>\n",
       "      <td>empire</td>\n",
       "      <td>1</td>\n",
       "      <td>1</td>\n",
       "      <td>3</td>\n",
       "      <td>5</td>\n",
       "      <td>Toydaria</td>\n",
       "    </tr>\n",
       "    <tr>\n",
       "      <th>3</th>\n",
       "      <td>2025-03-17 14:53:27</td>\n",
       "      <td>4</td>\n",
       "      <td>resistance_soldier</td>\n",
       "      <td>resistance</td>\n",
       "      <td>4</td>\n",
       "      <td>8</td>\n",
       "      <td>6</td>\n",
       "      <td>9</td>\n",
       "      <td>Shili</td>\n",
       "    </tr>\n",
       "    <tr>\n",
       "      <th>4</th>\n",
       "      <td>2025-03-17 14:53:26</td>\n",
       "      <td>5</td>\n",
       "      <td>resistance_soldier</td>\n",
       "      <td>empire</td>\n",
       "      <td>7</td>\n",
       "      <td>9</td>\n",
       "      <td>3</td>\n",
       "      <td>9</td>\n",
       "      <td>Glee Anselm</td>\n",
       "    </tr>\n",
       "  </tbody>\n",
       "</table>\n",
       "</div>"
      ],
      "text/plain": [
       "             timestamp  unit_id           unit_type empire_or_resistance  \\\n",
       "0  2025-03-17 14:53:30        1               at-at           resistance   \n",
       "1  2025-03-17 14:53:29        2        tie_silencer           resistance   \n",
       "2  2025-03-17 14:53:28        3        stormtrooper               empire   \n",
       "3  2025-03-17 14:53:27        4  resistance_soldier           resistance   \n",
       "4  2025-03-17 14:53:26        5  resistance_soldier               empire   \n",
       "\n",
       "   location_x  location_y  destination_x  destination_y    homeworld  \n",
       "0           4          10              9              7        Skako  \n",
       "1           5           2             10              6     Alderaan  \n",
       "2           1           1              3              5     Toydaria  \n",
       "3           4           8              6              9        Shili  \n",
       "4           7           9              3              9  Glee Anselm  "
      ]
     },
     "execution_count": 194,
     "metadata": {},
     "output_type": "execute_result"
    }
   ],
   "source": [
    "df.head(\n",
    ")"
   ]
  },
  {
   "cell_type": "code",
   "execution_count": 195,
   "metadata": {},
   "outputs": [
    {
     "name": "stdout",
     "output_type": "stream",
     "text": [
      "  empire_or_resistance  counts\n",
      "0               empire     506\n",
      "1           resistance     494\n"
     ]
    }
   ],
   "source": [
    "emp_or_res = df.groupby('empire_or_resistance').size().reset_index(name='counts')\n",
    "print(emp_or_res)"
   ]
  },
  {
   "cell_type": "code",
   "execution_count": 196,
   "metadata": {},
   "outputs": [
    {
     "name": "stdout",
     "output_type": "stream",
     "text": [
      "       homeworld  counts\n",
      "0       Alderaan      10\n",
      "1    Aleen Minor      25\n",
      "2     Bestine IV      26\n",
      "3          Cerea      24\n",
      "4       Champala      24\n",
      "5      Chandrila      26\n",
      "6   Concord Dawn      26\n",
      "7       Corellia      22\n",
      "8        Dagobah      28\n",
      "9       Dathomir      24\n",
      "10         Dorin      21\n",
      "11        Eriadu      26\n",
      "12   Glee Anselm      23\n",
      "13    Haruun Kal      23\n",
      "14       Iktotch      30\n",
      "15      Iridonia      17\n",
      "16         Kalee      21\n",
      "17      Kashyyyk      21\n",
      "18     Malastare      18\n",
      "19        Mirial      33\n",
      "20      Mon Cala      21\n",
      "21    Muunilinst      19\n",
      "22         Naboo      28\n",
      "23          Ojom      25\n",
      "24       Quermia      22\n",
      "25         Rodia      22\n",
      "26        Ryloth      19\n",
      "27       Serenno      23\n",
      "28         Shili      24\n",
      "29         Skako      24\n",
      "30       Socorro      19\n",
      "31       Stewjon      21\n",
      "32       Sullust      30\n",
      "33      Tatooine      28\n",
      "34       Tholoth      30\n",
      "35      Toydaria      28\n",
      "36     Trandosha      22\n",
      "37       Troiken      21\n",
      "38          Tund      30\n",
      "39        Umbara      24\n",
      "40       Vulpter      26\n",
      "41         Zolan      26\n"
     ]
    }
   ],
   "source": [
    "homeworld = df.groupby('homeworld').size().reset_index(name='counts')\n",
    "print(homeworld)"
   ]
  },
  {
   "cell_type": "code",
   "execution_count": 197,
   "metadata": {},
   "outputs": [
    {
     "name": "stdout",
     "output_type": "stream",
     "text": [
      "            unit_type  counts\n",
      "0               at-at     126\n",
      "1               at-st     116\n",
      "2  resistance_soldier     140\n",
      "3        stormtrooper     127\n",
      "4         tie_fighter     133\n",
      "5        tie_silencer     135\n",
      "6             unknown      99\n",
      "7              x-wing     124\n"
     ]
    }
   ],
   "source": [
    "unit_type = df.groupby('unit_type').size().reset_index(name='counts')\n",
    "print(unit_type)"
   ]
  },
  {
   "cell_type": "code",
   "execution_count": 198,
   "metadata": {},
   "outputs": [
    {
     "data": {
      "text/html": [
       "<div>\n",
       "<style scoped>\n",
       "    .dataframe tbody tr th:only-of-type {\n",
       "        vertical-align: middle;\n",
       "    }\n",
       "\n",
       "    .dataframe tbody tr th {\n",
       "        vertical-align: top;\n",
       "    }\n",
       "\n",
       "    .dataframe thead th {\n",
       "        text-align: right;\n",
       "    }\n",
       "</style>\n",
       "<table border=\"1\" class=\"dataframe\">\n",
       "  <thead>\n",
       "    <tr style=\"text-align: right;\">\n",
       "      <th></th>\n",
       "      <th>timestamp</th>\n",
       "      <th>unit_id</th>\n",
       "      <th>unit_type</th>\n",
       "      <th>empire_or_resistance</th>\n",
       "      <th>location_x</th>\n",
       "      <th>location_y</th>\n",
       "      <th>destination_x</th>\n",
       "      <th>destination_y</th>\n",
       "      <th>homeworld</th>\n",
       "      <th>is_resistance</th>\n",
       "    </tr>\n",
       "  </thead>\n",
       "  <tbody>\n",
       "    <tr>\n",
       "      <th>0</th>\n",
       "      <td>2025-03-17 14:53:30</td>\n",
       "      <td>1</td>\n",
       "      <td>at-at</td>\n",
       "      <td>resistance</td>\n",
       "      <td>4</td>\n",
       "      <td>10</td>\n",
       "      <td>9</td>\n",
       "      <td>7</td>\n",
       "      <td>Skako</td>\n",
       "      <td>True</td>\n",
       "    </tr>\n",
       "    <tr>\n",
       "      <th>1</th>\n",
       "      <td>2025-03-17 14:53:29</td>\n",
       "      <td>2</td>\n",
       "      <td>tie_silencer</td>\n",
       "      <td>resistance</td>\n",
       "      <td>5</td>\n",
       "      <td>2</td>\n",
       "      <td>10</td>\n",
       "      <td>6</td>\n",
       "      <td>Alderaan</td>\n",
       "      <td>True</td>\n",
       "    </tr>\n",
       "    <tr>\n",
       "      <th>2</th>\n",
       "      <td>2025-03-17 14:53:28</td>\n",
       "      <td>3</td>\n",
       "      <td>stormtrooper</td>\n",
       "      <td>empire</td>\n",
       "      <td>1</td>\n",
       "      <td>1</td>\n",
       "      <td>3</td>\n",
       "      <td>5</td>\n",
       "      <td>Toydaria</td>\n",
       "      <td>False</td>\n",
       "    </tr>\n",
       "    <tr>\n",
       "      <th>3</th>\n",
       "      <td>2025-03-17 14:53:27</td>\n",
       "      <td>4</td>\n",
       "      <td>resistance_soldier</td>\n",
       "      <td>resistance</td>\n",
       "      <td>4</td>\n",
       "      <td>8</td>\n",
       "      <td>6</td>\n",
       "      <td>9</td>\n",
       "      <td>Shili</td>\n",
       "      <td>True</td>\n",
       "    </tr>\n",
       "    <tr>\n",
       "      <th>4</th>\n",
       "      <td>2025-03-17 14:53:26</td>\n",
       "      <td>5</td>\n",
       "      <td>resistance_soldier</td>\n",
       "      <td>empire</td>\n",
       "      <td>7</td>\n",
       "      <td>9</td>\n",
       "      <td>3</td>\n",
       "      <td>9</td>\n",
       "      <td>Glee Anselm</td>\n",
       "      <td>False</td>\n",
       "    </tr>\n",
       "  </tbody>\n",
       "</table>\n",
       "</div>"
      ],
      "text/plain": [
       "             timestamp  unit_id           unit_type empire_or_resistance  \\\n",
       "0  2025-03-17 14:53:30        1               at-at           resistance   \n",
       "1  2025-03-17 14:53:29        2        tie_silencer           resistance   \n",
       "2  2025-03-17 14:53:28        3        stormtrooper               empire   \n",
       "3  2025-03-17 14:53:27        4  resistance_soldier           resistance   \n",
       "4  2025-03-17 14:53:26        5  resistance_soldier               empire   \n",
       "\n",
       "   location_x  location_y  destination_x  destination_y    homeworld  \\\n",
       "0           4          10              9              7        Skako   \n",
       "1           5           2             10              6     Alderaan   \n",
       "2           1           1              3              5     Toydaria   \n",
       "3           4           8              6              9        Shili   \n",
       "4           7           9              3              9  Glee Anselm   \n",
       "\n",
       "   is_resistance  \n",
       "0           True  \n",
       "1           True  \n",
       "2          False  \n",
       "3           True  \n",
       "4          False  "
      ]
     },
     "execution_count": 198,
     "metadata": {},
     "output_type": "execute_result"
    }
   ],
   "source": [
    "df['is_resistance'] = df['empire_or_resistance'].apply(lambda x: x.lower() == 'resistance')\n",
    "df.head()"
   ]
  },
  {
   "cell_type": "code",
   "execution_count": 199,
   "metadata": {},
   "outputs": [],
   "source": [
    "import seaborn as sns\n",
    "import matplotlib.pyplot as plt"
   ]
  },
  {
   "cell_type": "code",
   "execution_count": 200,
   "metadata": {},
   "outputs": [
    {
     "data": {
      "image/png": "[encoded data removed]",
      "text/plain": [
       "<Figure size 800x600 with 1 Axes>"
      ]
     },
     "metadata": {},
     "output_type": "display_data"
    }
   ],
   "source": [
    "counts = df['empire_or_resistance'].value_counts()\n",
    "counts_df = pd.DataFrame({'empire_or_resistance': counts.index, 'count': counts.values})\n",
    "\n",
    "plt.figure(figsize=(8, 6))\n",
    "sns.barplot(x='empire_or_resistance', y='count', data=counts_df)\n",
    "plt.title('Character Count by Empire or Resistance')\n",
    "plt.xlabel('Empire or Resistance')\n",
    "plt.ylabel('Count')\n",
    "plt.show()"
   ]
  },
  {
   "cell_type": "code",
   "execution_count": 201,
   "metadata": {},
   "outputs": [
    {
     "name": "stdout",
     "output_type": "stream",
     "text": [
      "Accuracy: 0.59\n"
     ]
    },
    {
     "data": {
      "image/png": "[encoded data removed]",
      "text/plain": [
       "<Figure size 1000x600 with 1 Axes>"
      ]
     },
     "metadata": {},
     "output_type": "display_data"
    },
    {
     "name": "stdout",
     "output_type": "stream",
     "text": [
      "Model saved to trained_model.pkl\n",
      "Sample prediction: ['resistance']\n"
     ]
    }
   ],
   "source": [
    "import pandas as pd\n",
    "from sklearn.model_selection import train_test_split\n",
    "from sklearn.tree import DecisionTreeClassifier\n",
    "from sklearn.metrics import accuracy_score\n",
    "from sklearn import tree\n",
    "import matplotlib.pyplot as plt\n",
    "import pickle\n",
    "\n",
    "# Load your data\n",
    "df = pd.read_csv('troop_movements.csv')\n",
    "\n",
    "# Convert timestamp to datetime\n",
    "df['timestamp'] = pd.to_datetime(df['timestamp'])\n",
    "\n",
    "# Extract numerical timestamp features\n",
    "\n",
    "# Handle missing values\n",
    "df = df.dropna(subset=['homeworld', 'unit_type'])\n",
    "\n",
    "# One-hot encode categorical features\n",
    "df_dummies = pd.get_dummies(df, columns=['homeworld', 'unit_type'], drop_first=True)\n",
    "\n",
    "# Define features (X) and target (y)\n",
    "X = df_dummies.drop(['empire_or_resistance', 'timestamp'], axis=1)  # Drop timestamp column\n",
    "y = df_dummies['empire_or_resistance']\n",
    "\n",
    "# Split the dataset\n",
    "X_train, X_test, y_train, y_test = train_test_split(X, y, test_size=0.3, random_state=42)\n",
    "\n",
    "# Train the model\n",
    "clf = DecisionTreeClassifier()\n",
    "clf.fit(X_train, y_train)\n",
    "\n",
    "# Make predictions and evaluate\n",
    "y_pred = clf.predict(X_test)\n",
    "accuracy = accuracy_score(y_test, y_pred)\n",
    "print(f\"Accuracy: {accuracy:.2f}\")\n",
    "\n",
    "# Feature Importances\n",
    "importances = clf.feature_importances_\n",
    "\n",
    "# Create a DataFrame for feature importances\n",
    "feature_importances = pd.DataFrame({'Feature': X.columns, 'Importance': importances})\n",
    "\n",
    "# Sort feature importances in descending order\n",
    "feature_importances = feature_importances.sort_values(by='Importance', ascending=False)\n",
    "\n",
    "# Bar Plot of Feature Importance\n",
    "plt.figure(figsize=(10, 6))  # Adjust figure size as needed\n",
    "sns.barplot(x='Feature', y='Importance', data=feature_importances)\n",
    "plt.title('Feature Importances')\n",
    "plt.xlabel('Feature')\n",
    "plt.ylabel('Importance')\n",
    "plt.xticks(rotation=45, ha='right')  # Rotate x-axis labels\n",
    "plt.tight_layout() # Improves layout spacing\n",
    "plt.show()\n",
    "\n",
    "# Save the model to a pickle file\n",
    "with open('trained_model.pkl', 'wb') as f:\n",
    "    pickle.dump(clf, f)\n",
    "print(\"Model saved to trained_model.pkl\")\n",
    "\n",
    "# Load the model from the pickle file\n",
    "with open('trained_model.pkl', 'rb') as f:\n",
    "    loaded_clf = pickle.load(f)\n",
    "\n",
    "# Verify that the loaded model works by making a prediction\n",
    "sample_prediction = loaded_clf.predict(X_test[:1])\n",
    "print(f\"Sample prediction: {sample_prediction}\")\n",
    "\n"
   ]
  },
  {
   "cell_type": "code",
   "execution_count": 202,
   "metadata": {},
   "outputs": [
    {
     "name": "stderr",
     "output_type": "stream",
     "text": [
      "C:\\Users\\wasadmin\\AppData\\Local\\Temp\\2\\ipykernel_5300\\3157588944.py:5: FutureWarning: Series.fillna with 'method' is deprecated and will raise in a future version. Use obj.ffill() or obj.bfill() instead.\n",
      "  df['location_x'] = df['location_x'].fillna(method='ffill')\n",
      "C:\\Users\\wasadmin\\AppData\\Local\\Temp\\2\\ipykernel_5300\\3157588944.py:6: FutureWarning: Series.fillna with 'method' is deprecated and will raise in a future version. Use obj.ffill() or obj.bfill() instead.\n",
      "  df['location_y'] = df['location_y'].fillna(method='ffill')\n"
     ]
    }
   ],
   "source": [
    "df = pd.read_csv(\"troop_movements_1m.csv\")\n",
    "\n",
    "df['unit_type'] = df['unit_type'].replace(\"invalid_unit\", \"unknown\")\n",
    "\n",
    "df['location_x'] = df['location_x'].fillna(method='ffill')\n",
    "df['location_y'] = df['location_y'].fillna(method='ffill')\n",
    "\n"
   ]
  },
  {
   "cell_type": "code",
   "execution_count": 203,
   "metadata": {},
   "outputs": [],
   "source": [
    "# Save the cleaned data to a Parquet file\n",
    "df.to_parquet('troop_movements_1m.parquet', engine='pyarrow')\n"
   ]
  },
  {
   "cell_type": "code",
   "execution_count": 204,
   "metadata": {},
   "outputs": [
    {
     "name": "stdout",
     "output_type": "stream",
     "text": [
      "['resistance' 'empire' 'resistance' ... 'resistance' 'resistance' 'empire']\n"
     ]
    }
   ],
   "source": [
    "# Load the trained model\n",
    "with open('trained_model.pkl', 'rb') as f:\n",
    "    model = pickle.load(f)\n",
    "\n",
    "# Load clean data from parquet file\n",
    "parquet_df = pd.read_parquet('troop_movements_1m.parquet')\n",
    "\n",
    "# Define the features used during training\n",
    "features = ['homeworld', 'unit_type']\n",
    "new_data = parquet_df[features]  # Features\n",
    "\n",
    "# Convert categorical features to numeric using one-hot encoding\n",
    "new_data_encoded = pd.get_dummies(new_data)\n",
    "\n",
    "# Align the new data with the training data columns\n",
    "# Assuming 'training_columns' is a list of columns used during training\n",
    "training_columns = model.feature_names_in_  # This assumes the model has this attribute\n",
    "new_data_encoded = new_data_encoded.reindex(columns=training_columns, fill_value=0)\n",
    "\n",
    "# Make predictions\n",
    "predictions = model.predict(new_data_encoded)\n",
    "predictions_bool = (predictions == 'resistance')\n",
    "\n",
    "\n",
    "# You can use the predictions as desired\n",
    "print(predictions)\n"
   ]
  },
  {
   "cell_type": "code",
   "execution_count": 205,
   "metadata": {},
   "outputs": [
    {
     "data": {
      "text/html": [
       "<div>\n",
       "<style scoped>\n",
       "    .dataframe tbody tr th:only-of-type {\n",
       "        vertical-align: middle;\n",
       "    }\n",
       "\n",
       "    .dataframe tbody tr th {\n",
       "        vertical-align: top;\n",
       "    }\n",
       "\n",
       "    .dataframe thead th {\n",
       "        text-align: right;\n",
       "    }\n",
       "</style>\n",
       "<table border=\"1\" class=\"dataframe\">\n",
       "  <thead>\n",
       "    <tr style=\"text-align: right;\">\n",
       "      <th></th>\n",
       "      <th>timestamp</th>\n",
       "      <th>unit_id</th>\n",
       "      <th>unit_type</th>\n",
       "      <th>location_x</th>\n",
       "      <th>location_y</th>\n",
       "      <th>destination_x</th>\n",
       "      <th>destination_y</th>\n",
       "      <th>homeworld</th>\n",
       "      <th>predictions</th>\n",
       "    </tr>\n",
       "  </thead>\n",
       "  <tbody>\n",
       "    <tr>\n",
       "      <th>0</th>\n",
       "      <td>2023-06-03 03:19:15</td>\n",
       "      <td>919214</td>\n",
       "      <td>tie_silencer</td>\n",
       "      <td>2.0</td>\n",
       "      <td>5.0</td>\n",
       "      <td>9</td>\n",
       "      <td>3</td>\n",
       "      <td>Aleen Minor</td>\n",
       "      <td>True</td>\n",
       "    </tr>\n",
       "    <tr>\n",
       "      <th>1</th>\n",
       "      <td>2023-02-24 13:50:40</td>\n",
       "      <td>9467154</td>\n",
       "      <td>stormtrooper</td>\n",
       "      <td>9.0</td>\n",
       "      <td>0.0</td>\n",
       "      <td>9</td>\n",
       "      <td>1</td>\n",
       "      <td>Malastare</td>\n",
       "      <td>False</td>\n",
       "    </tr>\n",
       "    <tr>\n",
       "      <th>2</th>\n",
       "      <td>2023-03-29 19:54:55</td>\n",
       "      <td>6585778</td>\n",
       "      <td>tie_silencer</td>\n",
       "      <td>0.0</td>\n",
       "      <td>6.0</td>\n",
       "      <td>5</td>\n",
       "      <td>9</td>\n",
       "      <td>Serenno</td>\n",
       "      <td>True</td>\n",
       "    </tr>\n",
       "    <tr>\n",
       "      <th>3</th>\n",
       "      <td>2023-04-30 00:58:11</td>\n",
       "      <td>3878023</td>\n",
       "      <td>tie_silencer</td>\n",
       "      <td>4.0</td>\n",
       "      <td>2.0</td>\n",
       "      <td>9</td>\n",
       "      <td>9</td>\n",
       "      <td>Tund</td>\n",
       "      <td>False</td>\n",
       "    </tr>\n",
       "    <tr>\n",
       "      <th>4</th>\n",
       "      <td>2023-04-10 22:00:26</td>\n",
       "      <td>5537117</td>\n",
       "      <td>at-st</td>\n",
       "      <td>6.0</td>\n",
       "      <td>8.0</td>\n",
       "      <td>5</td>\n",
       "      <td>8</td>\n",
       "      <td>Skako</td>\n",
       "      <td>True</td>\n",
       "    </tr>\n",
       "  </tbody>\n",
       "</table>\n",
       "</div>"
      ],
      "text/plain": [
       "             timestamp  unit_id     unit_type  location_x  location_y  \\\n",
       "0  2023-06-03 03:19:15   919214  tie_silencer         2.0         5.0   \n",
       "1  2023-02-24 13:50:40  9467154  stormtrooper         9.0         0.0   \n",
       "2  2023-03-29 19:54:55  6585778  tie_silencer         0.0         6.0   \n",
       "3  2023-04-30 00:58:11  3878023  tie_silencer         4.0         2.0   \n",
       "4  2023-04-10 22:00:26  5537117         at-st         6.0         8.0   \n",
       "\n",
       "   destination_x  destination_y    homeworld  predictions  \n",
       "0              9              3  Aleen Minor         True  \n",
       "1              9              1    Malastare        False  \n",
       "2              5              9      Serenno         True  \n",
       "3              9              9         Tund        False  \n",
       "4              5              8        Skako         True  "
      ]
     },
     "execution_count": 205,
     "metadata": {},
     "output_type": "execute_result"
    }
   ],
   "source": [
    "parquet_df['predictions'] = predictions_bool\n",
    "parquet_df.head()"
   ]
  },
  {
   "cell_type": "code",
   "execution_count": null,
   "metadata": {},
   "outputs": [],
   "source": []
  }
 ],
 "metadata": {
  "kernelspec": {
   "display_name": "Python 3",
   "language": "python",
   "name": "python3"
  },
  "language_info": {
   "codemirror_mode": {
    "name": "ipython",
    "version": 3
   },
   "file_extension": ".py",
   "mimetype": "text/x-python",
   "name": "python",
   "nbconvert_exporter": "python",
   "pygments_lexer": "ipython3",
   "version": "3.12.3"
  }
 },
 "nbformat": 4,
 "nbformat_minor": 2
}
